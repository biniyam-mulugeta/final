{
  "nbformat": 4,
  "nbformat_minor": 0,
  "metadata": {
    "colab": {
      "name": "dataset augmentation.ipynb",
      "provenance": [],
      "authorship_tag": "ABX9TyPDc2e52KJ30P/iD3XRMLrS",
      "include_colab_link": true
    },
    "kernelspec": {
      "name": "python3",
      "display_name": "Python 3"
    },
    "language_info": {
      "name": "python"
    }
  },
  "cells": [
    {
      "cell_type": "markdown",
      "metadata": {
        "id": "view-in-github",
        "colab_type": "text"
      },
      "source": [
        "<a href=\"https://colab.research.google.com/github/biniyam-mulugeta/final/blob/main/dataset_augmentation.ipynb\" target=\"_parent\"><img src=\"https://colab.research.google.com/assets/colab-badge.svg\" alt=\"Open In Colab\"/></a>"
      ]
    },
    {
      "cell_type": "code",
      "source": [
        "from google.colab import drive\n",
        "drive.mount('/content/drive')"
      ],
      "metadata": {
        "colab": {
          "base_uri": "https://localhost:8080/"
        },
        "id": "Eqq_TiRVukkQ",
        "outputId": "42effc6a-aef5-4e31-a76c-da2670ab7517"
      },
      "execution_count": 1,
      "outputs": [
        {
          "output_type": "stream",
          "name": "stdout",
          "text": [
            "Mounted at /content/drive\n"
          ]
        }
      ]
    },
    {
      "cell_type": "code",
      "execution_count": 2,
      "metadata": {
        "id": "sEVUIbO3qetg"
      },
      "outputs": [],
      "source": [
        "from keras.preprocessing.image import ImageDataGenerator\n",
        "from skimage import io"
      ]
    },
    {
      "cell_type": "code",
      "source": [
        "datagen = ImageDataGenerator(\n",
        "        rotation_range=90,     #Random rotation between 0 and 45\n",
        "        horizontal_flip=True,\n",
        "        fill_mode='constant', cval=125)    #Also try nearest, constant, reflect, wrap\n"
      ],
      "metadata": {
        "id": "aZ-nDdY-76XY"
      },
      "execution_count": 6,
      "outputs": []
    },
    {
      "cell_type": "code",
      "source": [
        "dataset = []\n",
        "\n",
        "import numpy as np\n",
        "from skimage import io\n",
        "import os\n",
        "from PIL import Image\n",
        "\n",
        "image_directory = \"/content/drive/My Drive/dataset_coffee_disease/cercospor/\"\n",
        "SIZE = 32\n",
        "dataset = []\n",
        "\n",
        "my_images = os.listdir(image_directory)\n",
        "for i, image_name in enumerate(my_images):\n",
        "    if (image_name.split('.')[1] == 'jpg'):\n",
        "        image = io.imread(image_directory + image_name)\n",
        "        image = Image.fromarray(image, 'RGB')\n",
        "        image = image.resize((SIZE,SIZE))\n",
        "        dataset.append(np.array(image))\n",
        "\n",
        "x = np.array(dataset)\n",
        "\n",
        "i = 0\n",
        "for batch in datagen.flow(x, batch_size=256,  \n",
        "                          save_to_dir='/content/drive/My Drive/aug_cercospora', \n",
        "                          save_prefix='aug', \n",
        "                          save_format='png'):\n",
        "    i += 1\n",
        "    if i > 3:\n",
        "      break"
      ],
      "metadata": {
        "id": "hXRYJtSlua9f"
      },
      "execution_count": 18,
      "outputs": []
    },
    {
      "cell_type": "code",
      "source": [
        ""
      ],
      "metadata": {
        "id": "96qaepwF7vVT"
      },
      "execution_count": null,
      "outputs": []
    }
  ]
}