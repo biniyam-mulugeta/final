{
  "nbformat": 4,
  "nbformat_minor": 0,
  "metadata": {
    "colab": {
      "provenance": [],
      "authorship_tag": "ABX9TyPs+kFMnemDfLq0Eur1ATJw",
      "include_colab_link": true
    },
    "kernelspec": {
      "name": "python3",
      "display_name": "Python 3"
    },
    "language_info": {
      "name": "python"
    }
  },
  "cells": [
    {
      "cell_type": "markdown",
      "metadata": {
        "id": "view-in-github",
        "colab_type": "text"
      },
      "source": [
        "<a href=\"https://colab.research.google.com/github/biniyam-mulugeta/final/blob/main/Hog_with%20softmax.ipynb\" target=\"_parent\"><img src=\"https://colab.research.google.com/assets/colab-badge.svg\" alt=\"Open In Colab\"/></a>"
      ]
    },
    {
      "cell_type": "code",
      "execution_count": null,
      "metadata": {
        "id": "kok_SsMbA6Qx"
      },
      "outputs": [],
      "source": [
        "import numpy as np\n",
        "import matplotlib.pyplot as plt\n",
        "from sklearn.metrics import classification_report\n",
        "from keras.datasets import mnist\n",
        "from skimage.feature import hog\n",
        "from keras.models import Sequential\n",
        "from keras.layers import Dense\n",
        "\n",
        "# Load the MNIST dataset\n",
        "(X_train, y_train), (X_test, y_test) = mnist.load_data()\n",
        "\n",
        "# Compute HOG features for each image\n",
        "hog_features_train = []\n",
        "hog_features_test = []\n",
        "for i in range(len(X_train)):\n",
        "    hog_features_train.append(hog(X_train[i], orientations=9, pixels_per_cell=(14, 14), cells_per_block=(1, 1), block_norm='L2-Hys'))\n",
        "for i in range(len(X_test)):\n",
        "    hog_features_test.append(hog(X_test[i], orientations=9, pixels_per_cell=(14, 14), cells_per_block=(1, 1), block_norm='L2-Hys'))\n",
        "    \n",
        "# Convert the HOG features to numpy arrays\n",
        "hog_features_train = np.array(hog_features_train)\n",
        "hog_features_test = np.array(hog_features_test)\n",
        "\n",
        "# Define the Softmax model\n",
        "model = Sequential()\n",
        "model.add(Dense(10, input_dim=hog_features_train.shape[1], activation='softmax'))\n",
        "\n",
        "# Compile the model\n",
        "model.compile(loss='sparse_categorical_crossentropy', optimizer='adam', metrics=['accuracy'])\n",
        "\n",
        "# Train the model\n",
        "model.fit(hog_features_train, y_train, epochs=10, batch_size=128, verbose=1)\n",
        "\n",
        "# Evaluate the model on test data\n",
        "y_pred = model.predict(hog_features_test)\n",
        "y_pred = np.argmax(y_pred, axis=1)\n",
        "print(classification_report(y_test, y_pred))"
      ]
    }
  ]
}